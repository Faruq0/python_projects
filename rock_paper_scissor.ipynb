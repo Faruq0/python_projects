{
 "cells": [
  {
   "cell_type": "markdown",
   "metadata": {},
   "source": [
    "# The 'Rock Paper Scissor'"
   ]
  },
  {
   "cell_type": "markdown",
   "metadata": {},
   "source": [
    "## objective of the game is to make 10 points \n",
    "## whoever makes 10 points first will win the game\n",
    "## the game is between a player and computer"
   ]
  },
  {
   "cell_type": "markdown",
   "metadata": {},
   "source": [
    "\n",
    "\n",
    "# Function to generate computer's choice"
   ]
  },
  {
   "cell_type": "code",
   "execution_count": 1,
   "metadata": {},
   "outputs": [],
   "source": [
    "def decide():\n",
    "    import random\n",
    "    choice = ['Rock', 'Paper', 'Scissor']\n",
    "    return choice[random.randint(0,2)]"
   ]
  },
  {
   "cell_type": "markdown",
   "metadata": {},
   "source": [
    "# Funtion to Compare between player's and computer's choices"
   ]
  },
  {
   "cell_type": "code",
   "execution_count": 2,
   "metadata": {},
   "outputs": [],
   "source": [
    "def compare(playerChoice, computerChoice):\n",
    "    \n",
    "    playerChoice = playerChoice.capitalize()\n",
    "\n",
    "    if playerChoice in ['Rock', 'Paper', 'Scissor']:\n",
    "        \n",
    "        if playerChoice == computerChoice:\n",
    "            return 2\n",
    "\n",
    "        elif playerChoice == 'Rock' and computerChoice == 'Paper':\n",
    "            return 0    \n",
    "\n",
    "        elif playerChoice == 'Rock' and computerChoice == 'Scissor':\n",
    "            return 1\n",
    "             \n",
    "        elif playerChoice == 'Scissor' and computerChoice == 'Paper':\n",
    "            return 1\n",
    "\n",
    "        elif playerChoice == 'Scissor' and computerChoice == 'Rock':\n",
    "            return 0\n",
    "             \n",
    "        elif playerChoice == 'Paper' and computerChoice == 'Rock':\n",
    "            return 0\n",
    "\n",
    "        elif playerChoice == 'Paper' and computerChoice == 'Scissor':\n",
    "            return 1\n",
    "\n",
    "    else:\n",
    "        pass"
   ]
  },
  {
   "cell_type": "markdown",
   "metadata": {},
   "source": [
    "# Function to return score and prints who wins"
   ]
  },
  {
   "cell_type": "code",
   "execution_count": null,
   "metadata": {},
   "outputs": [],
   "source": [
    "def scoreCounter(value,point):\n",
    "    if value == 0:\n",
    "        points['computer'] +=1\n",
    "        print('\\n Computer Wins')\n",
    "    elif value == 1:\n",
    "        points['player'] +=1\n",
    "        print('\\n You Win') \n",
    "    elif value == 2:\n",
    "        print(\"\\nIt's a draw. Both of you chose\", playerChoice)\n",
    "    else:\n",
    "        print('*'*100)\n",
    "        print('\\nPlease give a valid input. Your input must be among Rock, Paper, Scissor')\n",
    "        print(\"*\"*100)"
   ]
  },
  {
   "cell_type": "markdown",
   "metadata": {},
   "source": [
    "# Program Body"
   ]
  },
  {
   "cell_type": "code",
   "execution_count": null,
   "metadata": {},
   "outputs": [],
   "source": [
    "print('Welcome to \"Rock Paper Scissor\" ')\n",
    "\n",
    "#Dictionary that counts and stores points\n",
    "points = {\n",
    "    'player' : 0, \n",
    "    'computer': 0\n",
    "}\n",
    "\n",
    "while points['computer'] != 10 or points['computer'] != 10:\n",
    "    \n",
    "    #inputs from player and computer\n",
    "    playerChoice = input('Give you choice. Keep your choice among Rock, Paper and Scissor : \\n')\n",
    "    computerChoice = decide()\n",
    "    \n",
    "    #compares the choices between player and computer\n",
    "    comparison = compare(playerChoice, computerChoice)\n",
    "    \n",
    "    scoreCounter(value = comparison, point = points)    \n",
    "            \n",
    "    print('\\nYour Choice : ', playerChoice, '\\nComputer\\'s Choice : ', computerChoice)\n",
    "    print('\\n\\nYour Score\\t: ', points['player'] , '\\nCompute\\'s Score : ', points['computer'])\n",
    "    print('-'*100)\n",
    "    \n",
    "\n",
    "if points['computer'] == 10:\n",
    "    print('\\n\\nSorry, You lose the game')\n",
    "else:\n",
    "    print('\\n\\nCongratulations, You won the game')"
   ]
  }
 ],
 "metadata": {
  "kernelspec": {
   "display_name": "Python 3",
   "language": "python",
   "name": "python3"
  },
  "language_info": {
   "codemirror_mode": {
    "name": "ipython",
    "version": 3
   },
   "file_extension": ".py",
   "mimetype": "text/x-python",
   "name": "python",
   "nbconvert_exporter": "python",
   "pygments_lexer": "ipython3",
   "version": "3.7.1"
  }
 },
 "nbformat": 4,
 "nbformat_minor": 2
}
